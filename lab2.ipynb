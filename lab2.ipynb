{
 "cells": [
  {
   "cell_type": "code",
   "execution_count": 1,
   "metadata": {},
   "outputs": [],
   "source": [
    "import numpy as np\n",
    "import pandas as pd\n",
    "import matplotlib.pyplot as plt"
   ]
  },
  {
   "cell_type": "code",
   "execution_count": 2,
   "metadata": {},
   "outputs": [
    {
     "name": "stderr",
     "output_type": "stream",
     "text": [
      "<>:1: SyntaxWarning: invalid escape sequence '\\A'\n",
      "<>:1: SyntaxWarning: invalid escape sequence '\\A'\n",
      "C:\\Users\\abhin\\AppData\\Local\\Temp\\ipykernel_11796\\1098096023.py:1: SyntaxWarning: invalid escape sequence '\\A'\n",
      "  df = pd.read_csv(\"C:\\Abhinav\\Test\\Datasets\\AML\\Program_2_Dataset.csv\")\n"
     ]
    }
   ],
   "source": [
    "df = pd.read_csv(\"C:\\Abhinav\\Test\\Datasets\\AML\\Program_2_Dataset.csv\")"
   ]
  },
  {
   "cell_type": "code",
   "execution_count": 3,
   "metadata": {},
   "outputs": [
    {
     "data": {
      "text/plain": [
       "Crime_Rate          0\n",
       "Zone_proportion     0\n",
       "Non_Retail_Acres    0\n",
       "CHAS                0\n",
       "NOX                 0\n",
       "Avg_rooms           0\n",
       "AGE                 0\n",
       "Distance            0\n",
       "RAD                 0\n",
       "Property_TaxRate    0\n",
       "PTRATIO             0\n",
       "B                   0\n",
       "LSTAT               0\n",
       "MValue              0\n",
       "dtype: int64"
      ]
     },
     "execution_count": 3,
     "metadata": {},
     "output_type": "execute_result"
    }
   ],
   "source": [
    "df.isnull().sum()"
   ]
  },
  {
   "cell_type": "code",
   "execution_count": 4,
   "metadata": {},
   "outputs": [],
   "source": [
    "from sklearn.model_selection import train_test_split\n",
    "from sklearn.linear_model import LinearRegression\n",
    "from sklearn.metrics import mean_squared_error, r2_score\n",
    "from statsmodels.stats.outliers_influence import variance_inflation_factor\n",
    "import statsmodels.api as sm"
   ]
  },
  {
   "cell_type": "code",
   "execution_count": 5,
   "metadata": {},
   "outputs": [],
   "source": [
    "preds = ['Avg_rooms ', 'Distance', 'Property_TaxRate', 'Non_Retail_Acres']\n",
    "target = 'MValue'\n",
    "x = df[preds]\n",
    "y = df[target]"
   ]
  },
  {
   "cell_type": "code",
   "execution_count": 7,
   "metadata": {},
   "outputs": [],
   "source": [
    "def calc_vif(x):\n",
    "    vif_data = pd.DataFrame()\n",
    "    vif_data['Variable'] = x.columns\n",
    "    vif_data['VIF'] = [variance_inflation_factor(x.values, i) for i in range(x.shape[1])]\n",
    "    return vif_data\n",
    "    return vif_data"
   ]
  },
  {
   "cell_type": "code",
   "execution_count": null,
   "metadata": {},
   "outputs": [],
   "source": [
    "def calc_vif(x):\n",
    "    vid_data = pd.DataFrame()\n",
    "    vif_data['Variable'] = x.columns"
   ]
  }
 ],
 "metadata": {
  "kernelspec": {
   "display_name": "Python 3",
   "language": "python",
   "name": "python3"
  },
  "language_info": {
   "codemirror_mode": {
    "name": "ipython",
    "version": 3
   },
   "file_extension": ".py",
   "mimetype": "text/x-python",
   "name": "python",
   "nbconvert_exporter": "python",
   "pygments_lexer": "ipython3",
   "version": "3.12.0"
  }
 },
 "nbformat": 4,
 "nbformat_minor": 2
}
